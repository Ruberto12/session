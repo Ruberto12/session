{
 "cells": [
  {
   "cell_type": "code",
   "execution_count": 1,
   "id": "e0641728",
   "metadata": {},
   "outputs": [
    {
     "name": "stderr",
     "output_type": "stream",
     "text": [
      "<ipython-input-1-cfd3da929c51>:2: ParserWarning: Falling back to the 'python' engine because the 'c' engine does not support regex separators (separators > 1 char and different from '\\s+' are interpreted as regex); you can avoid this warning by specifying engine='python'.\n",
      "  users = pd.read_table('users.dat', sep='::', names=['UserID', 'Gender', 'Age', 'Occupation', 'Zip-code'])\n",
      "<ipython-input-1-cfd3da929c51>:3: ParserWarning: Falling back to the 'python' engine because the 'c' engine does not support regex separators (separators > 1 char and different from '\\s+' are interpreted as regex); you can avoid this warning by specifying engine='python'.\n",
      "  movies = pd.read_table('movies.dat', sep='::', names=['MovieID', 'Title', 'Genres'])\n",
      "<ipython-input-1-cfd3da929c51>:4: ParserWarning: Falling back to the 'python' engine because the 'c' engine does not support regex separators (separators > 1 char and different from '\\s+' are interpreted as regex); you can avoid this warning by specifying engine='python'.\n",
      "  ratings =pd.read_table('ratings.dat', sep='::', names=['UserID', 'MovieID', 'Rating', 'Timestamp'])\n"
     ]
    }
   ],
   "source": [
    "import pandas as pd\n",
    "users = pd.read_table('users.dat', sep='::', names=['UserID', 'Gender', 'Age', 'Occupation', 'Zip-code'])\n",
    "movies = pd.read_table('movies.dat', sep='::', names=['MovieID', 'Title', 'Genres'])\n",
    "ratings =pd.read_table('ratings.dat', sep='::', names=['UserID', 'MovieID', 'Rating', 'Timestamp'])"
   ]
  },
  {
   "cell_type": "code",
   "execution_count": 2,
   "id": "f475f086",
   "metadata": {},
   "outputs": [
    {
     "name": "stdout",
     "output_type": "stream",
     "text": [
      "         UserID  MovieID  Rating  Timestamp Gender  Age  Occupation Zip-code  \\\n",
      "0             1     1193       5  978300760      F    1          10    48067   \n",
      "1             2     1193       5  978298413      M   56          16    70072   \n",
      "2            12     1193       4  978220179      M   25          12    32793   \n",
      "3            15     1193       4  978199279      M   25           7    22903   \n",
      "4            17     1193       5  978158471      M   50           1    95350   \n",
      "...         ...      ...     ...        ...    ...  ...         ...      ...   \n",
      "1000204    5949     2198       5  958846401      M   18          17    47901   \n",
      "1000205    5675     2703       3  976029116      M   35          14    30030   \n",
      "1000206    5780     2845       1  958153068      M   18          17    92886   \n",
      "1000207    5851     3607       5  957756608      F   18          20    55410   \n",
      "1000208    5938     2909       4  957273353      M   25           1    35401   \n",
      "\n",
      "                                               Title                Genres  \n",
      "0             One Flew Over the Cuckoo's Nest (1975)                 Drama  \n",
      "1             One Flew Over the Cuckoo's Nest (1975)                 Drama  \n",
      "2             One Flew Over the Cuckoo's Nest (1975)                 Drama  \n",
      "3             One Flew Over the Cuckoo's Nest (1975)                 Drama  \n",
      "4             One Flew Over the Cuckoo's Nest (1975)                 Drama  \n",
      "...                                              ...                   ...  \n",
      "1000204                           Modulations (1998)           Documentary  \n",
      "1000205                        Broken Vessels (1998)                 Drama  \n",
      "1000206                            White Boys (1999)                 Drama  \n",
      "1000207                     One Little Indian (1973)  Comedy|Drama|Western  \n",
      "1000208  Five Wives, Three Secretaries and Me (1998)           Documentary  \n",
      "\n",
      "[1000209 rows x 10 columns]\n"
     ]
    }
   ],
   "source": [
    "first = pd.merge(ratings, users)\n",
    "table = pd.merge(first, movies)\n",
    "print(table)"
   ]
  },
  {
   "cell_type": "code",
   "execution_count": 3,
   "id": "74bd7506",
   "metadata": {},
   "outputs": [
    {
     "name": "stdout",
     "output_type": "stream",
     "text": [
      "                                                     Rating\n",
      "Gender Title                                               \n",
      "F      $1,000,000 Duck (1971)                      3.375000\n",
      "       'Night Mother (1986)                        3.388889\n",
      "       'Til There Was You (1997)                   2.675676\n",
      "       'burbs, The (1989)                          2.793478\n",
      "       ...And Justice for All (1979)               3.828571\n",
      "...                                                     ...\n",
      "M      Zed & Two Noughts, A (1985)                 3.380952\n",
      "       Zero Effect (1998)                          3.723140\n",
      "       Zero Kelvin (Kj�rlighetens kj�tere) (1995)  3.500000\n",
      "       Zeus and Roxanne (1997)                     2.357143\n",
      "       eXistenZ (1999)                             3.289086\n",
      "\n",
      "[7152 rows x 1 columns] \n",
      "\n",
      "                                             Rating\n",
      "Age Title                                          \n",
      "1   'Night Mother (1986)                   2.000000\n",
      "    'Til There Was You (1997)              3.500000\n",
      "    'burbs, The (1989)                     4.500000\n",
      "    ...And Justice for All (1979)          3.000000\n",
      "    10 Things I Hate About You (1999)      3.745455\n",
      "...                                             ...\n",
      "56  Young Poisoner's Handbook, The (1995)  4.000000\n",
      "    Young Sherlock Holmes (1985)           3.388889\n",
      "    Your Friends and Neighbors (1998)      4.000000\n",
      "    Zero Effect (1998)                     3.625000\n",
      "    eXistenZ (1999)                        2.200000\n",
      "\n",
      "[22457 rows x 1 columns]\n"
     ]
    }
   ],
   "source": [
    "Gender_Rating = pd.pivot_table(table,\n",
    "               index=[\"Gender\", 'Title'],\n",
    "              values=['Rating'])\n",
    "print(Gender_Rating, '\\n')\n",
    "Age_Rating = pd.pivot_table(table,\n",
    "               index=[\"Age\", 'Title'],\n",
    "              values=['Rating'])\n",
    "print(Age_Rating)"
   ]
  },
  {
   "cell_type": "code",
   "execution_count": 4,
   "id": "41b9d97e",
   "metadata": {},
   "outputs": [
    {
     "name": "stdout",
     "output_type": "stream",
     "text": [
      "                                                           Rating\n",
      "Gender Title                                                     \n",
      "F      Clean Slate (Coup de Torchon) (1981)                   5.0\n",
      "       Ballad of Narayama, The (Narayama Bushiko) (1958)      5.0\n",
      "       Raw Deal (1948)                                        5.0\n",
      "       Bittersweet Motel (2000)                               5.0\n",
      "       Skipped Parts (2000)                                   5.0\n",
      "...                                                           ...\n",
      "       My Life and Times With Antonin Artaud (En compa...     1.0\n",
      "       Sorority House Massacre II (1990)                      1.0\n",
      "       Big Bully (1996)                                       1.0\n",
      "       Dangerous Ground (1997)                                1.0\n",
      "       Bloodsport 2 (1995)                                    1.0\n",
      "\n",
      "[3481 rows x 1 columns]\n",
      "                                             Rating\n",
      "Title                                              \n",
      "Jude (1996)                                     5.0\n",
      "Decline of Western Civilization, The (1981)     5.0\n",
      "Innocents, The (1961)                           5.0\n",
      "Conformist, The (Il Conformista) (1970)         5.0\n",
      "Wide Awake (1998)                               5.0\n",
      "...                                             ...\n",
      "Prom Night (1980)                               1.0\n",
      "Prom Night III: The Last Kiss (1989)            1.0\n",
      "Prom Night IV: Deliver Us From Evil (1992)      1.0\n",
      "Horror Express (1972)                           1.0\n",
      "Mummy, The (1959)                               1.0\n",
      "\n",
      "[2913 rows x 1 columns]\n"
     ]
    }
   ],
   "source": [
    "Gender_Rating_FemSort = Gender_Rating['F':'F'].sort_values(by='Rating', ascending=False)\n",
    "print(Gender_Rating_FemSort)\n",
    "Age_Rating_T = Age_Rating.T\n",
    "Age_Rating = Age_Rating_T[56].T\n",
    "Age_Rating_OldSort = Age_Rating.sort_values(by='Rating', ascending=False)\n",
    "print(Age_Rating_OldSort)"
   ]
  },
  {
   "cell_type": "code",
   "execution_count": 5,
   "id": "7c44acdf",
   "metadata": {},
   "outputs": [
    {
     "name": "stdout",
     "output_type": "stream",
     "text": [
      "                                            Rating\n",
      "Title                                             \n",
      "$1,000,000 Duck (1971)                          37\n",
      "'Night Mother (1986)                            70\n",
      "'Til There Was You (1997)                       52\n",
      "'burbs, The (1989)                             303\n",
      "...And Justice for All (1979)                  199\n",
      "...                                            ...\n",
      "Zed & Two Noughts, A (1985)                     29\n",
      "Zero Effect (1998)                             301\n",
      "Zero Kelvin (Kj�rlighetens kj�tere) (1995)       2\n",
      "Zeus and Roxanne (1997)                         23\n",
      "eXistenZ (1999)                                410\n",
      "\n",
      "[3706 rows x 1 columns]\n",
      "                                   Rating\n",
      "Title                                    \n",
      "'burbs, The (1989)                    303\n",
      "10 Things I Hate About You (1999)     700\n",
      "101 Dalmatians (1961)                 565\n",
      "101 Dalmatians (1996)                 364\n",
      "12 Angry Men (1957)                   616\n",
      "...                                   ...\n",
      "Young Guns (1988)                     562\n",
      "Young Guns II (1990)                  369\n",
      "Young Sherlock Holmes (1985)          379\n",
      "Zero Effect (1998)                    301\n",
      "eXistenZ (1999)                       410\n",
      "\n",
      "[1216 rows x 1 columns]\n"
     ]
    }
   ],
   "source": [
    "func_count = {\n",
    "    'Rating':'count'\n",
    "}\n",
    "a_lot_of_ratings = table.groupby(['Title']).agg(func_count)\n",
    "print(a_lot_of_ratings) \n",
    "filtered_a_lot_of_ratings = a_lot_of_ratings.query('Rating>=250')\n",
    "print(filtered_a_lot_of_ratings)"
   ]
  },
  {
   "cell_type": "code",
   "execution_count": 6,
   "id": "caa83555",
   "metadata": {},
   "outputs": [
    {
     "name": "stdout",
     "output_type": "stream",
     "text": [
      "                                                     Rating\n",
      "Title                                      Gender          \n",
      "$1,000,000 Duck (1971)                     F       3.375000\n",
      "                                           M       2.761905\n",
      "'Night Mother (1986)                       F       3.388889\n",
      "                                           M       3.352941\n",
      "'Til There Was You (1997)                  F       2.675676\n",
      "...                                                     ...\n",
      "Zero Kelvin (Kj�rlighetens kj�tere) (1995) M       3.500000\n",
      "Zeus and Roxanne (1997)                    F       2.777778\n",
      "                                           M       2.357143\n",
      "eXistenZ (1999)                            F       3.098592\n",
      "                                           M       3.289086\n",
      "\n",
      "[7152 rows x 1 columns]\n"
     ]
    },
    {
     "data": {
      "text/html": [
       "<div>\n",
       "<style scoped>\n",
       "    .dataframe tbody tr th:only-of-type {\n",
       "        vertical-align: middle;\n",
       "    }\n",
       "\n",
       "    .dataframe tbody tr th {\n",
       "        vertical-align: top;\n",
       "    }\n",
       "\n",
       "    .dataframe thead th {\n",
       "        text-align: right;\n",
       "    }\n",
       "</style>\n",
       "<table border=\"1\" class=\"dataframe\">\n",
       "  <thead>\n",
       "    <tr style=\"text-align: right;\">\n",
       "      <th></th>\n",
       "      <th>Rating</th>\n",
       "    </tr>\n",
       "    <tr>\n",
       "      <th>Title</th>\n",
       "      <th></th>\n",
       "    </tr>\n",
       "  </thead>\n",
       "  <tbody>\n",
       "    <tr>\n",
       "      <th>Tigrero: A Film That Was Never Made (1994)</th>\n",
       "      <td>2.357023</td>\n",
       "    </tr>\n",
       "    <tr>\n",
       "      <th>Spiders, The (Die Spinnen, 1. Teil: Der Goldene See) (1919)</th>\n",
       "      <td>2.121320</td>\n",
       "    </tr>\n",
       "    <tr>\n",
       "      <th>Neon Bible, The (1995)</th>\n",
       "      <td>2.121320</td>\n",
       "    </tr>\n",
       "    <tr>\n",
       "      <th>James Dean Story, The (1957)</th>\n",
       "      <td>2.121320</td>\n",
       "    </tr>\n",
       "    <tr>\n",
       "      <th>Country Life (1994)</th>\n",
       "      <td>2.121320</td>\n",
       "    </tr>\n",
       "    <tr>\n",
       "      <th>...</th>\n",
       "      <td>...</td>\n",
       "    </tr>\n",
       "    <tr>\n",
       "      <th>With Friends Like These... (1998)</th>\n",
       "      <td>NaN</td>\n",
       "    </tr>\n",
       "    <tr>\n",
       "      <th>Wooden Man's Bride, The (Wu Kui) (1994)</th>\n",
       "      <td>NaN</td>\n",
       "    </tr>\n",
       "    <tr>\n",
       "      <th>Year of the Horse (1997)</th>\n",
       "      <td>NaN</td>\n",
       "    </tr>\n",
       "    <tr>\n",
       "      <th>Zachariah (1971)</th>\n",
       "      <td>NaN</td>\n",
       "    </tr>\n",
       "    <tr>\n",
       "      <th>Zero Kelvin (Kj�rlighetens kj�tere) (1995)</th>\n",
       "      <td>NaN</td>\n",
       "    </tr>\n",
       "  </tbody>\n",
       "</table>\n",
       "<p>3706 rows × 1 columns</p>\n",
       "</div>"
      ],
      "text/plain": [
       "                                                      Rating\n",
       "Title                                                       \n",
       "Tigrero: A Film That Was Never Made (1994)          2.357023\n",
       "Spiders, The (Die Spinnen, 1. Teil: Der Goldene...  2.121320\n",
       "Neon Bible, The (1995)                              2.121320\n",
       "James Dean Story, The (1957)                        2.121320\n",
       "Country Life (1994)                                 2.121320\n",
       "...                                                      ...\n",
       "With Friends Like These... (1998)                        NaN\n",
       "Wooden Man's Bride, The (Wu Kui) (1994)                  NaN\n",
       "Year of the Horse (1997)                                 NaN\n",
       "Zachariah (1971)                                         NaN\n",
       "Zero Kelvin (Kj�rlighetens kj�tere) (1995)               NaN\n",
       "\n",
       "[3706 rows x 1 columns]"
      ]
     },
     "execution_count": 6,
     "metadata": {},
     "output_type": "execute_result"
    }
   ],
   "source": [
    "table\n",
    "mid_func = {\n",
    "    'Rating':'mean'\n",
    "}\n",
    "cry_func = {\n",
    "    'Rating':'std'\n",
    "}\n",
    "MiddleValue = table.groupby(['Title', 'Gender']).agg(mid_func)\n",
    "print(MiddleValue)\n",
    "STD = MiddleValue.groupby(['Title']).agg(cry_func)\n",
    "STD_Sorted = STD.sort_values(by='Rating', ascending=False)\n",
    "STD_Sorted"
   ]
  },
  {
   "cell_type": "code",
   "execution_count": null,
   "id": "05304b91",
   "metadata": {},
   "outputs": [],
   "source": []
  }
 ],
 "metadata": {
  "kernelspec": {
   "display_name": "Python 3",
   "language": "python",
   "name": "python3"
  },
  "language_info": {
   "codemirror_mode": {
    "name": "ipython",
    "version": 3
   },
   "file_extension": ".py",
   "mimetype": "text/x-python",
   "name": "python",
   "nbconvert_exporter": "python",
   "pygments_lexer": "ipython3",
   "version": "3.8.8"
  }
 },
 "nbformat": 4,
 "nbformat_minor": 5
}
